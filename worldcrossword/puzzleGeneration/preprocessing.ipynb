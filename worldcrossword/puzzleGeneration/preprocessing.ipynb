{
 "cells": [
  {
   "cell_type": "code",
   "execution_count": 2,
   "metadata": {},
   "outputs": [],
   "source": [
    "import pandas as pd\n",
    "import time"
   ]
  },
  {
   "cell_type": "code",
   "execution_count": 3,
   "metadata": {},
   "outputs": [
    {
     "data": {
      "text/html": [
       "<div>\n",
       "<style scoped>\n",
       "    .dataframe tbody tr th:only-of-type {\n",
       "        vertical-align: middle;\n",
       "    }\n",
       "\n",
       "    .dataframe tbody tr th {\n",
       "        vertical-align: top;\n",
       "    }\n",
       "\n",
       "    .dataframe thead th {\n",
       "        text-align: right;\n",
       "    }\n",
       "</style>\n",
       "<table border=\"1\" class=\"dataframe\">\n",
       "  <thead>\n",
       "    <tr style=\"text-align: right;\">\n",
       "      <th></th>\n",
       "      <th>Unnamed: 0</th>\n",
       "      <th>eng</th>\n",
       "      <th>part</th>\n",
       "      <th>mean</th>\n",
       "    </tr>\n",
       "  </thead>\n",
       "  <tbody>\n",
       "    <tr>\n",
       "      <th>0</th>\n",
       "      <td>0</td>\n",
       "      <td>aardvark</td>\n",
       "      <td>noun</td>\n",
       "      <td>The nocturnal, insectivorous, burrowing, mamma...</td>\n",
       "    </tr>\n",
       "    <tr>\n",
       "      <th>1</th>\n",
       "      <td>1</td>\n",
       "      <td>aargh</td>\n",
       "      <td>interjection</td>\n",
       "      <td>Expressing annoyance, dismay, embarrassment or...</td>\n",
       "    </tr>\n",
       "    <tr>\n",
       "      <th>2</th>\n",
       "      <td>2</td>\n",
       "      <td>aback</td>\n",
       "      <td>adverb</td>\n",
       "      <td>Towards the back or rear; backwards.</td>\n",
       "    </tr>\n",
       "    <tr>\n",
       "      <th>3</th>\n",
       "      <td>3</td>\n",
       "      <td>abacus</td>\n",
       "      <td>noun</td>\n",
       "      <td>A table or tray scattered with sand which was ...</td>\n",
       "    </tr>\n",
       "    <tr>\n",
       "      <th>4</th>\n",
       "      <td>4</td>\n",
       "      <td>abandon</td>\n",
       "      <td>verb</td>\n",
       "      <td>To give up or relinquish control of, to surren...</td>\n",
       "    </tr>\n",
       "  </tbody>\n",
       "</table>\n",
       "</div>"
      ],
      "text/plain": [
       "   Unnamed: 0       eng          part  \\\n",
       "0           0  aardvark          noun   \n",
       "1           1     aargh  interjection   \n",
       "2           2     aback        adverb   \n",
       "3           3    abacus          noun   \n",
       "4           4   abandon          verb   \n",
       "\n",
       "                                                mean  \n",
       "0  The nocturnal, insectivorous, burrowing, mamma...  \n",
       "1  Expressing annoyance, dismay, embarrassment or...  \n",
       "2               Towards the back or rear; backwards.  \n",
       "3  A table or tray scattered with sand which was ...  \n",
       "4  To give up or relinquish control of, to surren...  "
      ]
     },
     "execution_count": 3,
     "metadata": {},
     "output_type": "execute_result"
    }
   ],
   "source": [
    "df = pd.read_csv('dictionary.csv')\n",
    "df.head()"
   ]
  },
  {
   "cell_type": "code",
   "execution_count": 18,
   "metadata": {},
   "outputs": [],
   "source": [
    "words = df['eng'].to_list()\n",
    "file = open('w.txt', 'w')\n",
    "for i in range(len(words)):\n",
    "    file.write(str(words[i]) + \"\\n\")"
   ]
  }
 ],
 "metadata": {
  "kernelspec": {
   "display_name": "Python 3.8.13 ('capstone')",
   "language": "python",
   "name": "python3"
  },
  "language_info": {
   "codemirror_mode": {
    "name": "ipython",
    "version": 3
   },
   "file_extension": ".py",
   "mimetype": "text/x-python",
   "name": "python",
   "nbconvert_exporter": "python",
   "pygments_lexer": "ipython3",
   "version": "3.8.15"
  },
  "orig_nbformat": 4,
  "vscode": {
   "interpreter": {
    "hash": "c846e37776ec43bd103a350a75b47f8f7f0328295c56ae5a8e54d3e3de58b940"
   }
  }
 },
 "nbformat": 4,
 "nbformat_minor": 2
}
